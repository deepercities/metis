{
 "cells": [
  {
   "cell_type": "markdown",
   "metadata": {},
   "source": [
    "# Extracting data from .json"
   ]
  },
  {
   "cell_type": "markdown",
   "metadata": {},
   "source": [
    "Initially extract data from git api and save it as activity.json using curl with the command:\n",
    "\n",
    "> curl https://api.github.com/repos/mbostock/d3/stats/commit_activity -method Get -outfile activity.json"
   ]
  },
  {
   "cell_type": "code",
   "execution_count": null,
   "metadata": {
    "collapsed": true
   },
   "outputs": [],
   "source": [
    "idValue = values['criteria'][0]['id']"
   ]
  },
  {
   "cell_type": "code",
   "execution_count": null,
   "metadata": {
    "collapsed": true
   },
   "outputs": [],
   "source": []
  },
  {
   "cell_type": "code",
   "execution_count": null,
   "metadata": {
    "collapsed": true
   },
   "outputs": [],
   "source": [
    "import json\n",
    "jsonFile = open('activity.json', 'r')\n",
    "values = json.load(jsonFile)\n",
    "jsonFile.close()"
   ]
  },
  {
   "cell_type": "code",
   "execution_count": null,
   "metadata": {
    "collapsed": false
   },
   "outputs": [],
   "source": [
    "print('yerp: '), values"
   ]
  },
  {
   "cell_type": "code",
   "execution_count": null,
   "metadata": {
    "collapsed": true
   },
   "outputs": [],
   "source": [
    "data2 = data.split(\",\")\n",
    "print('YUP '), data2\n"
   ]
  },
  {
   "cell_type": "code",
   "execution_count": null,
   "metadata": {
    "collapsed": false
   },
   "outputs": [],
   "source": [
    "test_json = ([{'total': 0, 'week': 1427587200}])\n",
    "json.dumps = (['foo', 'bar', 'foo2' 'bar2'])\n",
    "    print(json.dumps)"
   ]
  },
  {
   "cell_type": "code",
   "execution_count": 14,
   "metadata": {
    "collapsed": false
   },
   "outputs": [
    {
     "ename": "TypeError",
     "evalue": "'list' object is not callable",
     "output_type": "error",
     "traceback": [
      "\u001b[1;31m---------------------------------------------------------------------------\u001b[0m",
      "\u001b[1;31mTypeError\u001b[0m                                 Traceback (most recent call last)",
      "\u001b[1;32m<ipython-input-14-5d616080266f>\u001b[0m in \u001b[0;36m<module>\u001b[1;34m()\u001b[0m\n\u001b[1;32m----> 1\u001b[1;33m \u001b[0mprint\u001b[0m\u001b[1;33m(\u001b[0m\u001b[0mdata\u001b[0m\u001b[1;33m(\u001b[0m\u001b[1;36m1\u001b[0m\u001b[1;33m)\u001b[0m\u001b[1;33m)\u001b[0m\u001b[1;33m\u001b[0m\u001b[0m\n\u001b[0m",
      "\u001b[1;31mTypeError\u001b[0m: 'list' object is not callable"
     ]
    }
   ],
   "source": []
  },
  {
   "cell_type": "code",
   "execution_count": null,
   "metadata": {
    "collapsed": true
   },
   "outputs": [],
   "source": [
    "total = x['criteria'][10]['total']"
   ]
  },
  {
   "cell_type": "code",
   "execution_count": 6,
   "metadata": {
    "collapsed": false
   },
   "outputs": [
    {
     "ename": "SyntaxError",
     "evalue": "invalid syntax (<ipython-input-6-a3770b4251bf>, line 3)",
     "output_type": "error",
     "traceback": [
      "\u001b[1;36m  File \u001b[1;32m\"<ipython-input-6-a3770b4251bf>\"\u001b[1;36m, line \u001b[1;32m3\u001b[0m\n\u001b[1;33m    print key, ('is:'), value\u001b[0m\n\u001b[1;37m            ^\u001b[0m\n\u001b[1;31mSyntaxError\u001b[0m\u001b[1;31m:\u001b[0m invalid syntax\n"
     ]
    }
   ],
   "source": [
    "for criteria in values['criteria']:\n",
    "    for key, value in criteria.iteritems():\n",
    "        print key, ('is:'), value\n",
    "    print ''"
   ]
  },
  {
   "cell_type": "code",
   "execution_count": 2,
   "metadata": {
    "collapsed": true
   },
   "outputs": [],
   "source": [
    "data = [{\"days\":[0,0,0,0,0,0,0],\"total\":0,\"week\":1397347200},{\"days\":[0,0,1,0,0,0,0],\"total\":1,\"week\":1397952000},{\"days\":[0,0,0,0,0,0,0],\"total\":0,\"week\":1398556800},{\"days\":[0,0,0,0,0,0,1],\"total\":1,\"week\":1399161600},{\"days\":[0,0,1,0,1,0,3],\"total\":5,\"week\":1399766400},{\"days\":[2,2,0,0,1,1,0],\"total\":6,\"week\":1400371200},{\"days\":[0,0,0,1,0,1,0],\"total\":2,\"week\":1400976000},{\"days\":[0,0,0,0,0,1,1],\"total\":2,\"week\":1401580800},{\"days\":[3,0,0,0,0,0,0],\"total\":3,\"week\":1402185600},{\"days\":[0,0,0,0,1,0,0],\"total\":1,\"week\":1402790400},{\"days\":[0,0,2,0,0,1,0],\"total\":3,\"week\":1403395200},{\"days\":[0,2,1,0,0,0,0],\"total\":3,\"week\":1404000000},{\"days\":[1,0,0,0,0,1,0],\"total\":2,\"week\":1404604800},{\"days\":[0,0,0,1,0,1,0],\"total\":2,\"week\":1405209600},{\"days\":[0,0,0,0,0,0,0],\"total\":0,\"week\":1405814400},{\"days\":[0,0,3,0,0,0,0],\"total\":3,\"week\":1406419200},{\"days\":[0,0,1,1,1,0,0],\"total\":3,\"week\":1407024000},{\"days\":[0,0,1,1,0,2,0],\"total\":4,\"week\":1407628800},{\"days\":[0,0,0,0,0,0,0],\"total\":0,\"week\":1408233600},{\"days\":[0,1,0,0,3,0,0],\"total\":4,\"week\":1408838400},{\"days\":[0,0,0,0,0,0,0],\"total\":0,\"week\":1409443200},{\"days\":[0,0,0,1,0,0,0],\"total\":1,\"week\":1410048000},{\"days\":[0,0,0,0,0,0,0],\"total\":0,\"week\":1410652800},{\"days\":[0,0,0,0,0,0,2],\"total\":2,\"week\":1411257600},{\"days\":[1,0,1,0,1,2,0],\"total\":5,\"week\":1411862400},{\"days\":[0,0,0,3,3,11,0],\"total\":17,\"week\":1412467200},{\"days\":[0,3,4,2,10,2,1],\"total\":22,\"week\":1413072000},{\"days\":[0,0,2,1,3,1,0],\"total\":7,\"week\":1413676800},{\"days\":[0,0,0,0,0,0,0],\"total\":0,\"week\":1414281600},{\"days\":[0,1,0,0,0,0,0],\"total\":1,\"week\":1414886400},{\"days\":[0,0,0,0,2,4,3],\"total\":9,\"week\":1415491200},{\"days\":[9,9,4,10,1,0,0],\"total\":33,\"week\":1416096000},{\"days\":[0,1,0,0,0,0,1],\"total\":2,\"week\":1416700800},{\"days\":[1,1,0,0,0,0,4],\"total\":6,\"week\":1417305600},{\"days\":[0,3,2,0,1,0,0],\"total\":6,\"week\":1417910400},{\"days\":[0,0,0,0,1,0,0],\"total\":1,\"week\":1418515200},{\"days\":[0,1,0,0,0,0,0],\"total\":1,\"week\":1419120000},{\"days\":[0,0,1,1,0,0,0],\"total\":2,\"week\":1419724800},{\"days\":[0,0,0,0,0,0,0],\"total\":0,\"week\":1420329600},{\"days\":[0,0,1,1,1,0,0],\"total\":3,\"week\":1420934400},{\"days\":[0,0,0,0,0,0,0],\"total\":0,\"week\":1421539200},{\"days\":[0,0,0,1,0,0,4],\"total\":5,\"week\":1422144000},{\"days\":[0,0,0,0,3,1,6],\"total\":10,\"week\":1422748800},{\"days\":[4,0,4,0,3,0,0],\"total\":11,\"week\":1423353600},{\"days\":[0,0,0,0,0,0,0],\"total\":0,\"week\":1423958400},{\"days\":[0,0,0,0,0,0,0],\"total\":0,\"week\":1424563200},{\"days\":[0,0,0,0,0,0,0],\"total\":0,\"week\":1425168000},{\"days\":[0,0,0,0,0,0,0],\"total\":0,\"week\":1425772800},{\"days\":[0,0,0,0,0,0,0],\"total\":0,\"week\":1426377600},{\"days\":[0,0,0,0,0,0,0],\"total\":0,\"week\":1426982400},{\"days\":[0,0,0,0,0,0,0],\"total\":0,\"week\":1427587200},{\"days\":[0,1,0,0,0,0,0],\"total\":1,\"week\":1428192000}]"
   ]
  },
  {
   "cell_type": "code",
   "execution_count": null,
   "metadata": {
    "collapsed": false
   },
   "outputs": [],
   "source": [
    "print('JSON: '),data"
   ]
  },
  {
   "cell_type": "code",
   "execution_count": null,
   "metadata": {
    "collapsed": true
   },
   "outputs": [],
   "source": []
  }
 ],
 "metadata": {
  "kernelspec": {
   "display_name": "Python 3",
   "language": "python",
   "name": "python3"
  },
  "language_info": {
   "codemirror_mode": {
    "name": "ipython",
    "version": 3
   },
   "file_extension": ".py",
   "mimetype": "text/x-python",
   "name": "python",
   "nbconvert_exporter": "python",
   "pygments_lexer": "ipython3",
   "version": "3.4.3"
  }
 },
 "nbformat": 4,
 "nbformat_minor": 0
}
