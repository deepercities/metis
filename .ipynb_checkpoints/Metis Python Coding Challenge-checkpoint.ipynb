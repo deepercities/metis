{
 "cells": [
  {
   "cell_type": "markdown",
   "metadata": {},
   "source": [
    "## Metis Coding Challenge\n",
    "\n",
    "Initially extract data from git api and save it as activity.json using curl with the command:\n",
    "\n",
    "> curl https://api.github.com/repos/mbostock/d3/stats/commit_activity -method Get -outfile activity.json"
   ]
  },
  {
   "cell_type": "markdown",
   "metadata": {},
   "source": [
    "Then import the json and datetime modules and load the file."
   ]
  },
  {
   "cell_type": "code",
   "execution_count": 12,
   "metadata": {
    "collapsed": false
   },
   "outputs": [],
   "source": [
    "import json\n",
    "from datetime import datetime\n",
    "\n",
    "jsonFile = open('activity.json', 'r')\n",
    "data = json.load(jsonFile)\n",
    "jsonFile.close()"
   ]
  },
  {
   "cell_type": "markdown",
   "metadata": {},
   "source": [
    "Confirm correct data has been stored in the json:"
   ]
  },
  {
   "cell_type": "code",
   "execution_count": 5,
   "metadata": {
    "collapsed": false,
    "scrolled": false
   },
   "outputs": [
    {
     "name": "stdout",
     "output_type": "stream",
     "text": [
      "[{'week': 1397347200, 'days': [0, 0, 0, 0, 0, 0, 0], 'total': 0}, {'week': 1397952000, 'days': [0, 0, 1, 0, 0, 0, 0], 'total': 1}, {'week': 1398556800, 'days': [0, 0, 0, 0, 0, 0, 0], 'total': 0}, {'week': 1399161600, 'days': [0, 0, 0, 0, 0, 0, 1], 'total': 1}, {'week': 1399766400, 'days': [0, 0, 1, 0, 1, 0, 3], 'total': 5}, {'week': 1400371200, 'days': [2, 2, 0, 0, 1, 1, 0], 'total': 6}, {'week': 1400976000, 'days': [0, 0, 0, 1, 0, 1, 0], 'total': 2}, {'week': 1401580800, 'days': [0, 0, 0, 0, 0, 1, 1], 'total': 2}, {'week': 1402185600, 'days': [3, 0, 0, 0, 0, 0, 0], 'total': 3}, {'week': 1402790400, 'days': [0, 0, 0, 0, 1, 0, 0], 'total': 1}, {'week': 1403395200, 'days': [0, 0, 2, 0, 0, 1, 0], 'total': 3}, {'week': 1404000000, 'days': [0, 2, 1, 0, 0, 0, 0], 'total': 3}, {'week': 1404604800, 'days': [1, 0, 0, 0, 0, 1, 0], 'total': 2}, {'week': 1405209600, 'days': [0, 0, 0, 1, 0, 1, 0], 'total': 2}, {'week': 1405814400, 'days': [0, 0, 0, 0, 0, 0, 0], 'total': 0}, {'week': 1406419200, 'days': [0, 0, 3, 0, 0, 0, 0], 'total': 3}, {'week': 1407024000, 'days': [0, 0, 1, 1, 1, 0, 0], 'total': 3}, {'week': 1407628800, 'days': [0, 0, 1, 1, 0, 2, 0], 'total': 4}, {'week': 1408233600, 'days': [0, 0, 0, 0, 0, 0, 0], 'total': 0}, {'week': 1408838400, 'days': [0, 1, 0, 0, 3, 0, 0], 'total': 4}, {'week': 1409443200, 'days': [0, 0, 0, 0, 0, 0, 0], 'total': 0}, {'week': 1410048000, 'days': [0, 0, 0, 1, 0, 0, 0], 'total': 1}, {'week': 1410652800, 'days': [0, 0, 0, 0, 0, 0, 0], 'total': 0}, {'week': 1411257600, 'days': [0, 0, 0, 0, 0, 0, 2], 'total': 2}, {'week': 1411862400, 'days': [1, 0, 1, 0, 1, 2, 0], 'total': 5}, {'week': 1412467200, 'days': [0, 0, 0, 3, 3, 11, 0], 'total': 17}, {'week': 1413072000, 'days': [0, 3, 4, 2, 10, 2, 1], 'total': 22}, {'week': 1413676800, 'days': [0, 0, 2, 1, 3, 1, 0], 'total': 7}, {'week': 1414281600, 'days': [0, 0, 0, 0, 0, 0, 0], 'total': 0}, {'week': 1414886400, 'days': [0, 1, 0, 0, 0, 0, 0], 'total': 1}, {'week': 1415491200, 'days': [0, 0, 0, 0, 2, 4, 3], 'total': 9}, {'week': 1416096000, 'days': [9, 9, 4, 10, 1, 0, 0], 'total': 33}, {'week': 1416700800, 'days': [0, 1, 0, 0, 0, 0, 1], 'total': 2}, {'week': 1417305600, 'days': [1, 1, 0, 0, 0, 0, 4], 'total': 6}, {'week': 1417910400, 'days': [0, 3, 2, 0, 1, 0, 0], 'total': 6}, {'week': 1418515200, 'days': [0, 0, 0, 0, 1, 0, 0], 'total': 1}, {'week': 1419120000, 'days': [0, 1, 0, 0, 0, 0, 0], 'total': 1}, {'week': 1419724800, 'days': [0, 0, 1, 1, 0, 0, 0], 'total': 2}, {'week': 1420329600, 'days': [0, 0, 0, 0, 0, 0, 0], 'total': 0}, {'week': 1420934400, 'days': [0, 0, 1, 1, 1, 0, 0], 'total': 3}, {'week': 1421539200, 'days': [0, 0, 0, 0, 0, 0, 0], 'total': 0}, {'week': 1422144000, 'days': [0, 0, 0, 1, 0, 0, 4], 'total': 5}, {'week': 1422748800, 'days': [0, 0, 0, 0, 3, 1, 6], 'total': 10}, {'week': 1423353600, 'days': [4, 0, 4, 0, 3, 0, 0], 'total': 11}, {'week': 1423958400, 'days': [0, 0, 0, 0, 0, 0, 0], 'total': 0}, {'week': 1424563200, 'days': [0, 0, 0, 0, 0, 0, 0], 'total': 0}, {'week': 1425168000, 'days': [0, 0, 0, 0, 0, 0, 0], 'total': 0}, {'week': 1425772800, 'days': [0, 0, 0, 0, 0, 0, 0], 'total': 0}, {'week': 1426377600, 'days': [0, 0, 0, 0, 0, 0, 0], 'total': 0}, {'week': 1426982400, 'days': [0, 0, 0, 0, 0, 0, 0], 'total': 0}, {'week': 1427587200, 'days': [0, 0, 0, 0, 0, 0, 0], 'total': 0}, {'week': 1428192000, 'days': [0, 1, 0, 0, 0, 0, 0], 'total': 1}]\n"
     ]
    }
   ],
   "source": [
    "print(data)"
   ]
  },
  {
   "cell_type": "markdown",
   "metadata": {},
   "source": [
    "The json data has been decoded a python list:"
   ]
  },
  {
   "cell_type": "code",
   "execution_count": 145,
   "metadata": {
    "collapsed": false
   },
   "outputs": [
    {
     "data": {
      "text/plain": [
       "list"
      ]
     },
     "execution_count": 145,
     "metadata": {},
     "output_type": "execute_result"
    }
   ],
   "source": [
    "type(data)"
   ]
  },
  {
   "cell_type": "code",
   "execution_count": 8,
   "metadata": {
    "collapsed": false
   },
   "outputs": [
    {
     "data": {
      "text/plain": [
       "dict_keys(['total', 'week', 'days'])"
      ]
     },
     "execution_count": 8,
     "metadata": {},
     "output_type": "execute_result"
    }
   ],
   "source": [
    "data[0].keys()"
   ]
  },
  {
   "cell_type": "markdown",
   "metadata": {},
   "source": [
    "Each week of data is stored as a dictionary inside the list with keys for total, week and days. \n",
    "\n",
    "So data[0] to data[51] are each week's data for total, week and days."
   ]
  },
  {
   "cell_type": "code",
   "execution_count": 149,
   "metadata": {
    "collapsed": false
   },
   "outputs": [
    {
     "data": {
      "text/plain": [
       "dict_items([('total', 1), ('week', '2015-04-05 09:00:00'), ('days', [0, 1, 0, 0, 0, 0, 0])])"
      ]
     },
     "execution_count": 149,
     "metadata": {},
     "output_type": "execute_result"
    }
   ],
   "source": [
    "data[51].items()"
   ]
  },
  {
   "cell_type": "markdown",
   "metadata": {},
   "source": [
    "Days has a subsequent list stored within the dictionary for each days' commits. We can access each of the days like this:"
   ]
  },
  {
   "cell_type": "code",
   "execution_count": 154,
   "metadata": {
    "collapsed": false
   },
   "outputs": [
    {
     "data": {
      "text/plain": [
       "1"
      ]
     },
     "execution_count": 154,
     "metadata": {},
     "output_type": "execute_result"
    }
   ],
   "source": [
    "data[51]['days'][1]"
   ]
  },
  {
   "cell_type": "markdown",
   "metadata": {},
   "source": [
    "Looks good. Let's try and find _\"What week had the most commits?\"_"
   ]
  },
  {
   "cell_type": "markdown",
   "metadata": {},
   "source": [
    "First we'll print each of the weeks and the total commits, and tidy up the time:"
   ]
  },
  {
   "cell_type": "code",
   "execution_count": 13,
   "metadata": {
    "collapsed": false
   },
   "outputs": [
    {
     "name": "stdout",
     "output_type": "stream",
     "text": [
      "Date:  2014-04-13 09:00:00 Total:  0\n",
      "Date:  2014-04-20 09:00:00 Total:  1\n",
      "Date:  2014-04-27 09:00:00 Total:  0\n",
      "Date:  2014-05-04 09:00:00 Total:  1\n",
      "Date:  2014-05-11 09:00:00 Total:  5\n",
      "Date:  2014-05-18 09:00:00 Total:  6\n",
      "Date:  2014-05-25 09:00:00 Total:  2\n",
      "Date:  2014-06-01 09:00:00 Total:  2\n",
      "Date:  2014-06-08 09:00:00 Total:  3\n",
      "Date:  2014-06-15 09:00:00 Total:  1\n",
      "Date:  2014-06-22 09:00:00 Total:  3\n",
      "Date:  2014-06-29 09:00:00 Total:  3\n",
      "Date:  2014-07-06 09:00:00 Total:  2\n",
      "Date:  2014-07-13 09:00:00 Total:  2\n",
      "Date:  2014-07-20 09:00:00 Total:  0\n",
      "Date:  2014-07-27 09:00:00 Total:  3\n",
      "Date:  2014-08-03 09:00:00 Total:  3\n",
      "Date:  2014-08-10 09:00:00 Total:  4\n",
      "Date:  2014-08-17 09:00:00 Total:  0\n",
      "Date:  2014-08-24 09:00:00 Total:  4\n",
      "Date:  2014-08-31 09:00:00 Total:  0\n",
      "Date:  2014-09-07 09:00:00 Total:  1\n",
      "Date:  2014-09-14 09:00:00 Total:  0\n",
      "Date:  2014-09-21 09:00:00 Total:  2\n",
      "Date:  2014-09-28 09:00:00 Total:  5\n",
      "Date:  2014-10-05 09:00:00 Total:  17\n",
      "Date:  2014-10-12 09:00:00 Total:  22\n",
      "Date:  2014-10-19 09:00:00 Total:  7\n",
      "Date:  2014-10-26 09:00:00 Total:  0\n",
      "Date:  2014-11-02 09:00:00 Total:  1\n",
      "Date:  2014-11-09 09:00:00 Total:  9\n",
      "Date:  2014-11-16 09:00:00 Total:  33\n",
      "Date:  2014-11-23 09:00:00 Total:  2\n",
      "Date:  2014-11-30 09:00:00 Total:  6\n",
      "Date:  2014-12-07 09:00:00 Total:  6\n",
      "Date:  2014-12-14 09:00:00 Total:  1\n",
      "Date:  2014-12-21 09:00:00 Total:  1\n",
      "Date:  2014-12-28 09:00:00 Total:  2\n",
      "Date:  2015-01-04 09:00:00 Total:  0\n",
      "Date:  2015-01-11 09:00:00 Total:  3\n",
      "Date:  2015-01-18 09:00:00 Total:  0\n",
      "Date:  2015-01-25 09:00:00 Total:  5\n",
      "Date:  2015-02-01 09:00:00 Total:  10\n",
      "Date:  2015-02-08 09:00:00 Total:  11\n",
      "Date:  2015-02-15 09:00:00 Total:  0\n",
      "Date:  2015-02-22 09:00:00 Total:  0\n",
      "Date:  2015-03-01 09:00:00 Total:  0\n",
      "Date:  2015-03-08 09:00:00 Total:  0\n",
      "Date:  2015-03-15 09:00:00 Total:  0\n",
      "Date:  2015-03-22 09:00:00 Total:  0\n",
      "Date:  2015-03-29 09:00:00 Total:  0\n",
      "Date:  2015-04-05 09:00:00 Total:  1\n"
     ]
    }
   ],
   "source": [
    "for i in data:\n",
    "    i['week'] = datetime.fromtimestamp(\n",
    "        int(i['week'])\n",
    "    ).strftime('%Y-%m-%d %H:%M:%S')    \n",
    "    print ('Date: ', i['week'],'Total: ', i['total'])"
   ]
  },
  {
   "cell_type": "markdown",
   "metadata": {},
   "source": [
    "Scanning through the list visually it looks like the week of 2014-11-16 had the most commits (33). Let's try and confirm that programmatically. "
   ]
  },
  {
   "cell_type": "code",
   "execution_count": 52,
   "metadata": {
    "collapsed": false
   },
   "outputs": [
    {
     "name": "stdout",
     "output_type": "stream",
     "text": [
      "In the week of  2014-11-16 09:00:00 there were  33  commits.\n"
     ]
    }
   ],
   "source": [
    "most_commits = max(data,key=lambda item:item['total'])\n",
    "print('In the week of ', most_commits['week'], 'there were ', most_commits['total'], ' commits.')"
   ]
  },
  {
   "cell_type": "markdown",
   "metadata": {},
   "source": [
    "Great!\n",
    "\n",
    "Now let's try and find which day of the week had the most commits.\n",
    "\n",
    "I interpret this as meaning: _When all commit activity is summed, which day has the highest total?_\n",
    "\n",
    "First we make a new array of each of the weeks of dates:"
   ]
  },
  {
   "cell_type": "code",
   "execution_count": 6,
   "metadata": {
    "collapsed": false
   },
   "outputs": [
    {
     "name": "stdout",
     "output_type": "stream",
     "text": [
      "[[0, 0, 0, 0, 0, 0, 0], [0, 0, 1, 0, 0, 0, 0], [0, 0, 0, 0, 0, 0, 0], [0, 0, 0, 0, 0, 0, 1], [0, 0, 1, 0, 1, 0, 3], [2, 2, 0, 0, 1, 1, 0], [0, 0, 0, 1, 0, 1, 0], [0, 0, 0, 0, 0, 1, 1], [3, 0, 0, 0, 0, 0, 0], [0, 0, 0, 0, 1, 0, 0], [0, 0, 2, 0, 0, 1, 0], [0, 2, 1, 0, 0, 0, 0], [1, 0, 0, 0, 0, 1, 0], [0, 0, 0, 1, 0, 1, 0], [0, 0, 0, 0, 0, 0, 0], [0, 0, 3, 0, 0, 0, 0], [0, 0, 1, 1, 1, 0, 0], [0, 0, 1, 1, 0, 2, 0], [0, 0, 0, 0, 0, 0, 0], [0, 1, 0, 0, 3, 0, 0], [0, 0, 0, 0, 0, 0, 0], [0, 0, 0, 1, 0, 0, 0], [0, 0, 0, 0, 0, 0, 0], [0, 0, 0, 0, 0, 0, 2], [1, 0, 1, 0, 1, 2, 0], [0, 0, 0, 3, 3, 11, 0], [0, 3, 4, 2, 10, 2, 1], [0, 0, 2, 1, 3, 1, 0], [0, 0, 0, 0, 0, 0, 0], [0, 1, 0, 0, 0, 0, 0], [0, 0, 0, 0, 2, 4, 3], [9, 9, 4, 10, 1, 0, 0], [0, 1, 0, 0, 0, 0, 1], [1, 1, 0, 0, 0, 0, 4], [0, 3, 2, 0, 1, 0, 0], [0, 0, 0, 0, 1, 0, 0], [0, 1, 0, 0, 0, 0, 0], [0, 0, 1, 1, 0, 0, 0], [0, 0, 0, 0, 0, 0, 0], [0, 0, 1, 1, 1, 0, 0], [0, 0, 0, 0, 0, 0, 0], [0, 0, 0, 1, 0, 0, 4], [0, 0, 0, 0, 3, 1, 6], [4, 0, 4, 0, 3, 0, 0], [0, 0, 0, 0, 0, 0, 0], [0, 0, 0, 0, 0, 0, 0], [0, 0, 0, 0, 0, 0, 0], [0, 0, 0, 0, 0, 0, 0], [0, 0, 0, 0, 0, 0, 0], [0, 0, 0, 0, 0, 0, 0], [0, 0, 0, 0, 0, 0, 0], [0, 1, 0, 0, 0, 0, 0]]\n"
     ]
    }
   ],
   "source": [
    "date_array = []\n",
    "for i in range(0, 52):\n",
    "    date_array.append(data[i]['days'])\n",
    "print(date_array)"
   ]
  },
  {
   "cell_type": "markdown",
   "metadata": {},
   "source": [
    "Then we zip each of the days of the week (http://stackoverflow.com/a/13783363/4778761)"
   ]
  },
  {
   "cell_type": "code",
   "execution_count": 7,
   "metadata": {
    "collapsed": false
   },
   "outputs": [
    {
     "name": "stdout",
     "output_type": "stream",
     "text": [
      "(0, 0, 0, 0, 0, 2, 0, 0, 3, 0, 0, 0, 1, 0, 0, 0, 0, 0, 0, 0, 0, 0, 0, 0, 1, 0, 0, 0, 0, 0, 0, 9, 0, 1, 0, 0, 0, 0, 0, 0, 0, 0, 0, 4, 0, 0, 0, 0, 0, 0, 0, 0)\n",
      "(0, 0, 0, 0, 0, 2, 0, 0, 0, 0, 0, 2, 0, 0, 0, 0, 0, 0, 0, 1, 0, 0, 0, 0, 0, 0, 3, 0, 0, 1, 0, 9, 1, 1, 3, 0, 1, 0, 0, 0, 0, 0, 0, 0, 0, 0, 0, 0, 0, 0, 0, 1)\n",
      "(0, 1, 0, 0, 1, 0, 0, 0, 0, 0, 2, 1, 0, 0, 0, 3, 1, 1, 0, 0, 0, 0, 0, 0, 1, 0, 4, 2, 0, 0, 0, 4, 0, 0, 2, 0, 0, 1, 0, 1, 0, 0, 0, 4, 0, 0, 0, 0, 0, 0, 0, 0)\n",
      "(0, 0, 0, 0, 0, 0, 1, 0, 0, 0, 0, 0, 0, 1, 0, 0, 1, 1, 0, 0, 0, 1, 0, 0, 0, 3, 2, 1, 0, 0, 0, 10, 0, 0, 0, 0, 0, 1, 0, 1, 0, 1, 0, 0, 0, 0, 0, 0, 0, 0, 0, 0)\n",
      "(0, 0, 0, 0, 1, 1, 0, 0, 0, 1, 0, 0, 0, 0, 0, 0, 1, 0, 0, 3, 0, 0, 0, 0, 1, 3, 10, 3, 0, 0, 2, 1, 0, 0, 1, 1, 0, 0, 0, 1, 0, 0, 3, 3, 0, 0, 0, 0, 0, 0, 0, 0)\n",
      "(0, 0, 0, 0, 0, 1, 1, 1, 0, 0, 1, 0, 1, 1, 0, 0, 0, 2, 0, 0, 0, 0, 0, 0, 2, 11, 2, 1, 0, 0, 4, 0, 0, 0, 0, 0, 0, 0, 0, 0, 0, 0, 1, 0, 0, 0, 0, 0, 0, 0, 0, 0)\n",
      "(0, 0, 0, 1, 3, 0, 0, 1, 0, 0, 0, 0, 0, 0, 0, 0, 0, 0, 0, 0, 0, 0, 0, 2, 0, 0, 1, 0, 0, 0, 3, 0, 1, 4, 0, 0, 0, 0, 0, 0, 0, 4, 6, 0, 0, 0, 0, 0, 0, 0, 0, 0)\n"
     ]
    }
   ],
   "source": [
    "for i in zip(*date_array):\n",
    "    print(i)"
   ]
  },
  {
   "cell_type": "markdown",
   "metadata": {},
   "source": [
    "Then we need to sum each of the days and display the result.\n",
    "\n",
    "According to the GIT API the week starts on Sunday."
   ]
  },
  {
   "cell_type": "code",
   "execution_count": 8,
   "metadata": {
    "collapsed": false
   },
   "outputs": [
    {
     "name": "stdout",
     "output_type": "stream",
     "text": [
      "Commits per day: Sunday: 21 Monday: 25 Tuesday: 29 Wednesday: 24 Thursday: 36 Friday: 29 Saturday: 26\n"
     ]
    }
   ],
   "source": [
    "date_sum = [sum(i) for i in zip(*date_array)]\n",
    "print('Commits per day: Sunday:', date_sum[0], 'Monday:', date_sum[1], 'Tuesday:', date_sum[2], 'Wednesday:', date_sum[3], 'Thursday:', date_sum[4], 'Friday:', date_sum[5], 'Saturday:', date_sum[6])"
   ]
  },
  {
   "cell_type": "markdown",
   "metadata": {},
   "source": [
    "Thursday has the most commits by day (36)."
   ]
  },
  {
   "cell_type": "code",
   "execution_count": 52,
   "metadata": {
    "collapsed": false
   },
   "outputs": [
    {
     "name": "stdout",
     "output_type": "stream",
     "text": [
      "Populating the interactive namespace from numpy and matplotlib\n"
     ]
    },
    {
     "data": {
      "image/png": "[encoded data removed]",
      "text/plain": [
       "<matplotlib.figure.Figure at 0x7511250>"
      ]
     },
     "metadata": {},
     "output_type": "display_data"
    }
   ],
   "source": [
    "%pylab inline\n",
    "\n",
    "import matplotlib.pyplot as plt\n",
    "import numpy as np\n",
    "\n",
    "graph_labels = ['Sunday', 'Monday', 'Tuesday', 'Wednesday', 'Thursday', 'Friday', 'Saturday']\n",
    "graph_dates = [date_sum[0], date_sum[1], date_sum[2], date_sum[3], date_sum[4], date_sum[5],  date_sum[6]]\n",
    "\n",
    "fig = plt.figure()\n",
    "\n",
    "width = .30\n",
    "ind = np.arange(len(graph_dates))\n",
    "plt.bar(ind, graph_dates, color='lightseagreen')\n",
    "plt.xticks(ind + width / 2, graph_labels, rotation=60)\n",
    "\n",
    "plt.show()"
   ]
  }
 ],
 "metadata": {
  "kernelspec": {
   "display_name": "Python 3",
   "language": "python",
   "name": "python3"
  },
  "language_info": {
   "codemirror_mode": {
    "name": "ipython",
    "version": 3
   },
   "file_extension": ".py",
   "mimetype": "text/x-python",
   "name": "python",
   "nbconvert_exporter": "python",
   "pygments_lexer": "ipython3",
   "version": "3.4.3"
  }
 },
 "nbformat": 4,
 "nbformat_minor": 0
}
